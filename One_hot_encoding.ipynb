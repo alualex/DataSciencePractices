{
  "nbformat": 4,
  "nbformat_minor": 0,
  "metadata": {
    "colab": {
      "provenance": [],
      "authorship_tag": "ABX9TyP3qtv0kJYgYKizzmX3Zrco",
      "include_colab_link": true
    },
    "kernelspec": {
      "name": "python3",
      "display_name": "Python 3"
    },
    "language_info": {
      "name": "python"
    }
  },
  "cells": [
    {
      "cell_type": "markdown",
      "metadata": {
        "id": "view-in-github",
        "colab_type": "text"
      },
      "source": [
        "<a href=\"https://colab.research.google.com/github/alualex/DataSciencePractices/blob/master/One_hot_encoding.ipynb\" target=\"_parent\"><img src=\"https://colab.research.google.com/assets/colab-badge.svg\" alt=\"Open In Colab\"/></a>"
      ]
    },
    {
      "cell_type": "code",
      "execution_count": 1,
      "metadata": {
        "id": "7iOWjfSm0061"
      },
      "outputs": [],
      "source": [
        "import pandas as pd"
      ]
    },
    {
      "cell_type": "code",
      "source": [
        "# Example data with categorical variables\n",
        "data = pd.DataFrame({'Gender': ['Male', 'Female', 'Other', 'Male', 'Other'],\n",
        "                     'Marital_Status': ['Married', 'Single', 'Single', 'Divorced', 'Married']})\n"
      ],
      "metadata": {
        "id": "rnBlKF_705yk"
      },
      "execution_count": 2,
      "outputs": []
    },
    {
      "cell_type": "code",
      "source": [
        "# Perform one-hot encoding using pandas get_dummies function\n",
        "data_encoded = pd.get_dummies(data)"
      ],
      "metadata": {
        "id": "nQjTiOdz1JM4"
      },
      "execution_count": 3,
      "outputs": []
    },
    {
      "cell_type": "code",
      "source": [
        "print(\"Original data:\\n\", data)\n",
        "print(\"\\nEncoded data:\\n\", data_encoded)"
      ],
      "metadata": {
        "colab": {
          "base_uri": "https://localhost:8080/"
        },
        "id": "G0Y0DU901MHa",
        "outputId": "88084070-ca78-4d67-a495-1967356feb84"
      },
      "execution_count": 4,
      "outputs": [
        {
          "output_type": "stream",
          "name": "stdout",
          "text": [
            "Original data:\n",
            "    Gender Marital_Status\n",
            "0    Male        Married\n",
            "1  Female         Single\n",
            "2   Other         Single\n",
            "3    Male       Divorced\n",
            "4   Other        Married\n",
            "\n",
            "Encoded data:\n",
            "    Gender_Female  Gender_Male  Gender_Other  Marital_Status_Divorced  \\\n",
            "0              0            1             0                        0   \n",
            "1              1            0             0                        0   \n",
            "2              0            0             1                        0   \n",
            "3              0            1             0                        1   \n",
            "4              0            0             1                        0   \n",
            "\n",
            "   Marital_Status_Married  Marital_Status_Single  \n",
            "0                       1                      0  \n",
            "1                       0                      1  \n",
            "2                       0                      1  \n",
            "3                       0                      0  \n",
            "4                       1                      0  \n"
          ]
        }
      ]
    }
  ]
}