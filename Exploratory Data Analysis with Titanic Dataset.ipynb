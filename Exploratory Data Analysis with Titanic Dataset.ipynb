{
 "cells": [
  {
   "cell_type": "markdown",
   "metadata": {},
   "source": [
    "# Exploratory Data Analysis with Titanic dataset\n",
    "\n",
    "\n"
   ]
  },
  {
   "cell_type": "code",
   "execution_count": 1,
   "metadata": {
    "collapsed": true
   },
   "outputs": [],
   "source": [
    "import numpy as np\n",
    "import pandas as pd\n",
    "import matplotlib.pyplot as plt\n",
    "import seaborn as sb"
   ]
  },
  {
   "cell_type": "code",
   "execution_count": 3,
   "metadata": {
    "collapsed": true
   },
   "outputs": [],
   "source": [
    "plt.style.use('fivethirtyeight')\n",
    "import warnings\n",
    "warnings.filterwarnings('ignore')\n",
    "%matplotlib inline"
   ]
  },
  {
   "cell_type": "code",
   "execution_count": 5,
   "metadata": {
    "collapsed": true
   },
   "outputs": [],
   "source": [
    "train_data=pd.read_csv('D:/Jamil Moughal/C# Video Tutorials/Big Data/Datasets/Titanic_train.csv')\n",
    "test_data=pd.read_csv('D:/Jamil Moughal/C# Video Tutorials/Big Data/Datasets/Titanic_test.csv')"
   ]
  },
  {
   "cell_type": "code",
   "execution_count": 63,
   "metadata": {},
   "outputs": [
    {
     "data": {
      "text/html": [
       "<div>\n",
       "<style>\n",
       "    .dataframe thead tr:only-child th {\n",
       "        text-align: right;\n",
       "    }\n",
       "\n",
       "    .dataframe thead th {\n",
       "        text-align: left;\n",
       "    }\n",
       "\n",
       "    .dataframe tbody tr th {\n",
       "        vertical-align: top;\n",
       "    }\n",
       "</style>\n",
       "<table border=\"1\" class=\"dataframe\">\n",
       "  <thead>\n",
       "    <tr style=\"text-align: right;\">\n",
       "      <th></th>\n",
       "      <th>PassengerId</th>\n",
       "      <th>Survived</th>\n",
       "      <th>Pclass</th>\n",
       "      <th>Name</th>\n",
       "      <th>Sex</th>\n",
       "      <th>Age</th>\n",
       "      <th>SibSp</th>\n",
       "      <th>Parch</th>\n",
       "      <th>Ticket</th>\n",
       "      <th>Fare</th>\n",
       "      <th>Cabin</th>\n",
       "      <th>Embarked</th>\n",
       "      <th>Initial</th>\n",
       "    </tr>\n",
       "  </thead>\n",
       "  <tbody>\n",
       "    <tr>\n",
       "      <th>0</th>\n",
       "      <td>1</td>\n",
       "      <td>0</td>\n",
       "      <td>3</td>\n",
       "      <td>Braund, Mr. Owen Harris</td>\n",
       "      <td>male</td>\n",
       "      <td>22.0</td>\n",
       "      <td>1</td>\n",
       "      <td>0</td>\n",
       "      <td>A/5 21171</td>\n",
       "      <td>7.2500</td>\n",
       "      <td>NaN</td>\n",
       "      <td>S</td>\n",
       "      <td>Mr</td>\n",
       "    </tr>\n",
       "    <tr>\n",
       "      <th>1</th>\n",
       "      <td>2</td>\n",
       "      <td>1</td>\n",
       "      <td>1</td>\n",
       "      <td>Cumings, Mrs. John Bradley (Florence Briggs Th...</td>\n",
       "      <td>female</td>\n",
       "      <td>38.0</td>\n",
       "      <td>1</td>\n",
       "      <td>0</td>\n",
       "      <td>PC 17599</td>\n",
       "      <td>71.2833</td>\n",
       "      <td>C85</td>\n",
       "      <td>C</td>\n",
       "      <td>Mrs</td>\n",
       "    </tr>\n",
       "    <tr>\n",
       "      <th>2</th>\n",
       "      <td>3</td>\n",
       "      <td>1</td>\n",
       "      <td>3</td>\n",
       "      <td>Heikkinen, Miss. Laina</td>\n",
       "      <td>female</td>\n",
       "      <td>26.0</td>\n",
       "      <td>0</td>\n",
       "      <td>0</td>\n",
       "      <td>STON/O2. 3101282</td>\n",
       "      <td>7.9250</td>\n",
       "      <td>NaN</td>\n",
       "      <td>S</td>\n",
       "      <td>Miss</td>\n",
       "    </tr>\n",
       "    <tr>\n",
       "      <th>3</th>\n",
       "      <td>4</td>\n",
       "      <td>1</td>\n",
       "      <td>1</td>\n",
       "      <td>Futrelle, Mrs. Jacques Heath (Lily May Peel)</td>\n",
       "      <td>female</td>\n",
       "      <td>35.0</td>\n",
       "      <td>1</td>\n",
       "      <td>0</td>\n",
       "      <td>113803</td>\n",
       "      <td>53.1000</td>\n",
       "      <td>C123</td>\n",
       "      <td>S</td>\n",
       "      <td>Mrs</td>\n",
       "    </tr>\n",
       "    <tr>\n",
       "      <th>4</th>\n",
       "      <td>5</td>\n",
       "      <td>0</td>\n",
       "      <td>3</td>\n",
       "      <td>Allen, Mr. William Henry</td>\n",
       "      <td>male</td>\n",
       "      <td>35.0</td>\n",
       "      <td>0</td>\n",
       "      <td>0</td>\n",
       "      <td>373450</td>\n",
       "      <td>8.0500</td>\n",
       "      <td>NaN</td>\n",
       "      <td>S</td>\n",
       "      <td>Mr</td>\n",
       "    </tr>\n",
       "    <tr>\n",
       "      <th>5</th>\n",
       "      <td>6</td>\n",
       "      <td>0</td>\n",
       "      <td>3</td>\n",
       "      <td>Moran, Mr. James</td>\n",
       "      <td>male</td>\n",
       "      <td>33.0</td>\n",
       "      <td>0</td>\n",
       "      <td>0</td>\n",
       "      <td>330877</td>\n",
       "      <td>8.4583</td>\n",
       "      <td>NaN</td>\n",
       "      <td>Q</td>\n",
       "      <td>Mr</td>\n",
       "    </tr>\n",
       "    <tr>\n",
       "      <th>6</th>\n",
       "      <td>7</td>\n",
       "      <td>0</td>\n",
       "      <td>1</td>\n",
       "      <td>McCarthy, Mr. Timothy J</td>\n",
       "      <td>male</td>\n",
       "      <td>54.0</td>\n",
       "      <td>0</td>\n",
       "      <td>0</td>\n",
       "      <td>17463</td>\n",
       "      <td>51.8625</td>\n",
       "      <td>E46</td>\n",
       "      <td>S</td>\n",
       "      <td>Mr</td>\n",
       "    </tr>\n",
       "    <tr>\n",
       "      <th>7</th>\n",
       "      <td>8</td>\n",
       "      <td>0</td>\n",
       "      <td>3</td>\n",
       "      <td>Palsson, Master. Gosta Leonard</td>\n",
       "      <td>male</td>\n",
       "      <td>2.0</td>\n",
       "      <td>3</td>\n",
       "      <td>1</td>\n",
       "      <td>349909</td>\n",
       "      <td>21.0750</td>\n",
       "      <td>NaN</td>\n",
       "      <td>S</td>\n",
       "      <td>Master</td>\n",
       "    </tr>\n",
       "    <tr>\n",
       "      <th>8</th>\n",
       "      <td>9</td>\n",
       "      <td>1</td>\n",
       "      <td>3</td>\n",
       "      <td>Johnson, Mrs. Oscar W (Elisabeth Vilhelmina Berg)</td>\n",
       "      <td>female</td>\n",
       "      <td>27.0</td>\n",
       "      <td>0</td>\n",
       "      <td>2</td>\n",
       "      <td>347742</td>\n",
       "      <td>11.1333</td>\n",
       "      <td>NaN</td>\n",
       "      <td>S</td>\n",
       "      <td>Mrs</td>\n",
       "    </tr>\n",
       "    <tr>\n",
       "      <th>9</th>\n",
       "      <td>10</td>\n",
       "      <td>1</td>\n",
       "      <td>2</td>\n",
       "      <td>Nasser, Mrs. Nicholas (Adele Achem)</td>\n",
       "      <td>female</td>\n",
       "      <td>14.0</td>\n",
       "      <td>1</td>\n",
       "      <td>0</td>\n",
       "      <td>237736</td>\n",
       "      <td>30.0708</td>\n",
       "      <td>NaN</td>\n",
       "      <td>C</td>\n",
       "      <td>Mrs</td>\n",
       "    </tr>\n",
       "  </tbody>\n",
       "</table>\n",
       "</div>"
      ],
      "text/plain": [
       "   PassengerId  Survived  Pclass  \\\n",
       "0            1         0       3   \n",
       "1            2         1       1   \n",
       "2            3         1       3   \n",
       "3            4         1       1   \n",
       "4            5         0       3   \n",
       "5            6         0       3   \n",
       "6            7         0       1   \n",
       "7            8         0       3   \n",
       "8            9         1       3   \n",
       "9           10         1       2   \n",
       "\n",
       "                                                Name     Sex   Age  SibSp  \\\n",
       "0                            Braund, Mr. Owen Harris    male  22.0      1   \n",
       "1  Cumings, Mrs. John Bradley (Florence Briggs Th...  female  38.0      1   \n",
       "2                             Heikkinen, Miss. Laina  female  26.0      0   \n",
       "3       Futrelle, Mrs. Jacques Heath (Lily May Peel)  female  35.0      1   \n",
       "4                           Allen, Mr. William Henry    male  35.0      0   \n",
       "5                                   Moran, Mr. James    male  33.0      0   \n",
       "6                            McCarthy, Mr. Timothy J    male  54.0      0   \n",
       "7                     Palsson, Master. Gosta Leonard    male   2.0      3   \n",
       "8  Johnson, Mrs. Oscar W (Elisabeth Vilhelmina Berg)  female  27.0      0   \n",
       "9                Nasser, Mrs. Nicholas (Adele Achem)  female  14.0      1   \n",
       "\n",
       "   Parch            Ticket     Fare Cabin Embarked Initial  \n",
       "0      0         A/5 21171   7.2500   NaN        S      Mr  \n",
       "1      0          PC 17599  71.2833   C85        C     Mrs  \n",
       "2      0  STON/O2. 3101282   7.9250   NaN        S    Miss  \n",
       "3      0            113803  53.1000  C123        S     Mrs  \n",
       "4      0            373450   8.0500   NaN        S      Mr  \n",
       "5      0            330877   8.4583   NaN        Q      Mr  \n",
       "6      0             17463  51.8625   E46        S      Mr  \n",
       "7      1            349909  21.0750   NaN        S  Master  \n",
       "8      2            347742  11.1333   NaN        S     Mrs  \n",
       "9      0            237736  30.0708   NaN        C     Mrs  "
      ]
     },
     "execution_count": 63,
     "metadata": {},
     "output_type": "execute_result"
    }
   ],
   "source": [
    "train_data.head(10)"
   ]
  },
  {
   "cell_type": "code",
   "execution_count": 7,
   "metadata": {},
   "outputs": [
    {
     "data": {
      "text/html": [
       "<div>\n",
       "<style>\n",
       "    .dataframe thead tr:only-child th {\n",
       "        text-align: right;\n",
       "    }\n",
       "\n",
       "    .dataframe thead th {\n",
       "        text-align: left;\n",
       "    }\n",
       "\n",
       "    .dataframe tbody tr th {\n",
       "        vertical-align: top;\n",
       "    }\n",
       "</style>\n",
       "<table border=\"1\" class=\"dataframe\">\n",
       "  <thead>\n",
       "    <tr style=\"text-align: right;\">\n",
       "      <th></th>\n",
       "      <th>PassengerId</th>\n",
       "      <th>Pclass</th>\n",
       "      <th>Name</th>\n",
       "      <th>Sex</th>\n",
       "      <th>Age</th>\n",
       "      <th>SibSp</th>\n",
       "      <th>Parch</th>\n",
       "      <th>Ticket</th>\n",
       "      <th>Fare</th>\n",
       "      <th>Cabin</th>\n",
       "      <th>Embarked</th>\n",
       "    </tr>\n",
       "  </thead>\n",
       "  <tbody>\n",
       "    <tr>\n",
       "      <th>0</th>\n",
       "      <td>892</td>\n",
       "      <td>3</td>\n",
       "      <td>Kelly, Mr. James</td>\n",
       "      <td>male</td>\n",
       "      <td>34.5</td>\n",
       "      <td>0</td>\n",
       "      <td>0</td>\n",
       "      <td>330911</td>\n",
       "      <td>7.8292</td>\n",
       "      <td>NaN</td>\n",
       "      <td>Q</td>\n",
       "    </tr>\n",
       "    <tr>\n",
       "      <th>1</th>\n",
       "      <td>893</td>\n",
       "      <td>3</td>\n",
       "      <td>Wilkes, Mrs. James (Ellen Needs)</td>\n",
       "      <td>female</td>\n",
       "      <td>47.0</td>\n",
       "      <td>1</td>\n",
       "      <td>0</td>\n",
       "      <td>363272</td>\n",
       "      <td>7.0000</td>\n",
       "      <td>NaN</td>\n",
       "      <td>S</td>\n",
       "    </tr>\n",
       "    <tr>\n",
       "      <th>2</th>\n",
       "      <td>894</td>\n",
       "      <td>2</td>\n",
       "      <td>Myles, Mr. Thomas Francis</td>\n",
       "      <td>male</td>\n",
       "      <td>62.0</td>\n",
       "      <td>0</td>\n",
       "      <td>0</td>\n",
       "      <td>240276</td>\n",
       "      <td>9.6875</td>\n",
       "      <td>NaN</td>\n",
       "      <td>Q</td>\n",
       "    </tr>\n",
       "    <tr>\n",
       "      <th>3</th>\n",
       "      <td>895</td>\n",
       "      <td>3</td>\n",
       "      <td>Wirz, Mr. Albert</td>\n",
       "      <td>male</td>\n",
       "      <td>27.0</td>\n",
       "      <td>0</td>\n",
       "      <td>0</td>\n",
       "      <td>315154</td>\n",
       "      <td>8.6625</td>\n",
       "      <td>NaN</td>\n",
       "      <td>S</td>\n",
       "    </tr>\n",
       "    <tr>\n",
       "      <th>4</th>\n",
       "      <td>896</td>\n",
       "      <td>3</td>\n",
       "      <td>Hirvonen, Mrs. Alexander (Helga E Lindqvist)</td>\n",
       "      <td>female</td>\n",
       "      <td>22.0</td>\n",
       "      <td>1</td>\n",
       "      <td>1</td>\n",
       "      <td>3101298</td>\n",
       "      <td>12.2875</td>\n",
       "      <td>NaN</td>\n",
       "      <td>S</td>\n",
       "    </tr>\n",
       "  </tbody>\n",
       "</table>\n",
       "</div>"
      ],
      "text/plain": [
       "   PassengerId  Pclass                                          Name     Sex  \\\n",
       "0          892       3                              Kelly, Mr. James    male   \n",
       "1          893       3              Wilkes, Mrs. James (Ellen Needs)  female   \n",
       "2          894       2                     Myles, Mr. Thomas Francis    male   \n",
       "3          895       3                              Wirz, Mr. Albert    male   \n",
       "4          896       3  Hirvonen, Mrs. Alexander (Helga E Lindqvist)  female   \n",
       "\n",
       "    Age  SibSp  Parch   Ticket     Fare Cabin Embarked  \n",
       "0  34.5      0      0   330911   7.8292   NaN        Q  \n",
       "1  47.0      1      0   363272   7.0000   NaN        S  \n",
       "2  62.0      0      0   240276   9.6875   NaN        Q  \n",
       "3  27.0      0      0   315154   8.6625   NaN        S  \n",
       "4  22.0      1      1  3101298  12.2875   NaN        S  "
      ]
     },
     "execution_count": 7,
     "metadata": {},
     "output_type": "execute_result"
    }
   ],
   "source": [
    "test_data.head()"
   ]
  },
  {
   "cell_type": "code",
   "execution_count": 8,
   "metadata": {},
   "outputs": [
    {
     "data": {
      "text/plain": [
       "PassengerId      0\n",
       "Survived         0\n",
       "Pclass           0\n",
       "Name             0\n",
       "Sex              0\n",
       "Age            177\n",
       "SibSp            0\n",
       "Parch            0\n",
       "Ticket           0\n",
       "Fare             0\n",
       "Cabin          687\n",
       "Embarked         2\n",
       "dtype: int64"
      ]
     },
     "execution_count": 8,
     "metadata": {},
     "output_type": "execute_result"
    }
   ],
   "source": [
    "train_data.isnull().sum()"
   ]
  },
  {
   "cell_type": "code",
   "execution_count": 10,
   "metadata": {},
   "outputs": [
    {
     "data": {
      "image/png": "[encoded data removed]",
      "text/plain": [
       "<matplotlib.figure.Figure at 0x24a540c048>"
      ]
     },
     "metadata": {},
     "output_type": "display_data"
    }
   ],
   "source": [
    "sb.countplot('Survived',data=train_data)\n",
    "plt.show()"
   ]
  },
  {
   "cell_type": "markdown",
   "metadata": {},
   "source": [
    "From the above graph it is clear that not many persons survived.\n",
    "Out of 891 persons in training dataset only 350, 38.4% of total training dataset survived. We will get more insight of data by exploring more."
   ]
  },
  {
   "cell_type": "markdown",
   "metadata": {},
   "source": [
    "Here we'll explore features"
   ]
  },
  {
   "cell_type": "code",
   "execution_count": 11,
   "metadata": {},
   "outputs": [
    {
     "data": {
      "text/plain": [
       "Sex     Survived\n",
       "female  0            81\n",
       "        1           233\n",
       "male    0           468\n",
       "        1           109\n",
       "Name: Survived, dtype: int64"
      ]
     },
     "execution_count": 11,
     "metadata": {},
     "output_type": "execute_result"
    }
   ],
   "source": [
    "train_data.groupby(['Sex', 'Survived'])['Survived'].count()"
   ]
  },
  {
   "cell_type": "markdown",
   "metadata": {},
   "source": [
    "It is clear that 233 female survived out of 344. And out of 577 male 109 survived. The survival ratio of female is much greater than that of male. It can be seen clearly in following graph"
   ]
  },
  {
   "cell_type": "code",
   "execution_count": 14,
   "metadata": {},
   "outputs": [
    {
     "data": {
      "image/png": "[encoded data removed]",
      "text/plain": [
       "<matplotlib.figure.Figure at 0x24a5559208>"
      ]
     },
     "metadata": {},
     "output_type": "display_data"
    }
   ],
   "source": [
    "train_data[['Sex','Survived']].groupby(['Sex']).mean().plot.bar()\n",
    "sb.countplot('Sex',hue='Survived',data=train_data,)\n",
    "plt.show()"
   ]
  },
  {
   "cell_type": "markdown",
   "metadata": {},
   "source": [
    "'Sex' is very interesting feature. Isn't it? Let's explore more features"
   ]
  },
  {
   "cell_type": "code",
   "execution_count": 17,
   "metadata": {},
   "outputs": [
    {
     "data": {
      "image/png": "[encoded data removed]",
      "text/plain": [
       "<matplotlib.figure.Figure at 0x24aabae630>"
      ]
     },
     "metadata": {},
     "output_type": "display_data"
    }
   ],
   "source": [
    "sb.countplot('Pclass', hue='Survived', data=train_data)\n",
    "plt.title('Pclass: Sruvived vs Dead')\n",
    "plt.show()"
   ]
  },
  {
   "cell_type": "markdown",
   "metadata": {},
   "source": [
    "Wow.... That looks amazing. It is usually said that Money can't buy Everything, But it is clearly seen that pasangers of Class 1 are given high priority while Rescue. There are greater number of passangers in Class 3 than Class 1 and Class 2 but very few, almost 25% in Class 3 survived. In Class 2, survivail and non-survival rate is 49% and 51% approx.\n",
    "While in Class 1 almost 68% people survived. So money and status matters here.\n",
    "\n",
    "Let's dive in again into data to check more interesting observations."
   ]
  },
  {
   "cell_type": "code",
   "execution_count": 22,
   "metadata": {},
   "outputs": [
    {
     "data": {
      "text/html": [
       "<style  type=\"text/css\" >\n",
       "    #T_3f240ed0_22ce_11e8_bd97_485ab6c270e8row0_col0 {\n",
       "            background-color:  #ffff66;\n",
       "        }    #T_3f240ed0_22ce_11e8_bd97_485ab6c270e8row0_col1 {\n",
       "            background-color:  #ffff66;\n",
       "        }    #T_3f240ed0_22ce_11e8_bd97_485ab6c270e8row0_col2 {\n",
       "            background-color:  #f1f866;\n",
       "        }    #T_3f240ed0_22ce_11e8_bd97_485ab6c270e8row0_col3 {\n",
       "            background-color:  #ffff66;\n",
       "        }    #T_3f240ed0_22ce_11e8_bd97_485ab6c270e8row1_col0 {\n",
       "            background-color:  #96cb66;\n",
       "        }    #T_3f240ed0_22ce_11e8_bd97_485ab6c270e8row1_col1 {\n",
       "            background-color:  #a3d166;\n",
       "        }    #T_3f240ed0_22ce_11e8_bd97_485ab6c270e8row1_col2 {\n",
       "            background-color:  #f1f866;\n",
       "        }    #T_3f240ed0_22ce_11e8_bd97_485ab6c270e8row1_col3 {\n",
       "            background-color:  #cfe766;\n",
       "        }    #T_3f240ed0_22ce_11e8_bd97_485ab6c270e8row2_col0 {\n",
       "            background-color:  #a7d366;\n",
       "        }    #T_3f240ed0_22ce_11e8_bd97_485ab6c270e8row2_col1 {\n",
       "            background-color:  #85c266;\n",
       "        }    #T_3f240ed0_22ce_11e8_bd97_485ab6c270e8row2_col2 {\n",
       "            background-color:  #6eb666;\n",
       "        }    #T_3f240ed0_22ce_11e8_bd97_485ab6c270e8row2_col3 {\n",
       "            background-color:  #85c266;\n",
       "        }    #T_3f240ed0_22ce_11e8_bd97_485ab6c270e8row3_col0 {\n",
       "            background-color:  #cde666;\n",
       "        }    #T_3f240ed0_22ce_11e8_bd97_485ab6c270e8row3_col1 {\n",
       "            background-color:  #f0f866;\n",
       "        }    #T_3f240ed0_22ce_11e8_bd97_485ab6c270e8row3_col2 {\n",
       "            background-color:  #ffff66;\n",
       "        }    #T_3f240ed0_22ce_11e8_bd97_485ab6c270e8row3_col3 {\n",
       "            background-color:  #f7fb66;\n",
       "        }    #T_3f240ed0_22ce_11e8_bd97_485ab6c270e8row4_col0 {\n",
       "            background-color:  #008066;\n",
       "        }    #T_3f240ed0_22ce_11e8_bd97_485ab6c270e8row4_col1 {\n",
       "            background-color:  #008066;\n",
       "        }    #T_3f240ed0_22ce_11e8_bd97_485ab6c270e8row4_col2 {\n",
       "            background-color:  #008066;\n",
       "        }    #T_3f240ed0_22ce_11e8_bd97_485ab6c270e8row4_col3 {\n",
       "            background-color:  #008066;\n",
       "        }</style>  \n",
       "<table id=\"T_3f240ed0_22ce_11e8_bd97_485ab6c270e8\" > \n",
       "<thead>    <tr> \n",
       "        <th class=\"blank\" ></th> \n",
       "        <th class=\"index_name level0\" >Pclass</th> \n",
       "        <th class=\"col_heading level0 col0\" >1</th> \n",
       "        <th class=\"col_heading level0 col1\" >2</th> \n",
       "        <th class=\"col_heading level0 col2\" >3</th> \n",
       "        <th class=\"col_heading level0 col3\" >All</th> \n",
       "    </tr>    <tr> \n",
       "        <th class=\"index_name level0\" >Sex</th> \n",
       "        <th class=\"index_name level1\" >Survived</th> \n",
       "        <th class=\"blank\" ></th> \n",
       "        <th class=\"blank\" ></th> \n",
       "        <th class=\"blank\" ></th> \n",
       "        <th class=\"blank\" ></th> \n",
       "    </tr></thead> \n",
       "<tbody>    <tr> \n",
       "        <th id=\"T_3f240ed0_22ce_11e8_bd97_485ab6c270e8\" class=\"row_heading level0 row0\" rowspan=2>female</th> \n",
       "        <th id=\"T_3f240ed0_22ce_11e8_bd97_485ab6c270e8\" class=\"row_heading level1 row0\" >0</th> \n",
       "        <td id=\"T_3f240ed0_22ce_11e8_bd97_485ab6c270e8row0_col0\" class=\"data row0 col0\" >3</td> \n",
       "        <td id=\"T_3f240ed0_22ce_11e8_bd97_485ab6c270e8row0_col1\" class=\"data row0 col1\" >6</td> \n",
       "        <td id=\"T_3f240ed0_22ce_11e8_bd97_485ab6c270e8row0_col2\" class=\"data row0 col2\" >72</td> \n",
       "        <td id=\"T_3f240ed0_22ce_11e8_bd97_485ab6c270e8row0_col3\" class=\"data row0 col3\" >81</td> \n",
       "    </tr>    <tr> \n",
       "        <th id=\"T_3f240ed0_22ce_11e8_bd97_485ab6c270e8\" class=\"row_heading level1 row1\" >1</th> \n",
       "        <td id=\"T_3f240ed0_22ce_11e8_bd97_485ab6c270e8row1_col0\" class=\"data row1 col0\" >91</td> \n",
       "        <td id=\"T_3f240ed0_22ce_11e8_bd97_485ab6c270e8row1_col1\" class=\"data row1 col1\" >70</td> \n",
       "        <td id=\"T_3f240ed0_22ce_11e8_bd97_485ab6c270e8row1_col2\" class=\"data row1 col2\" >72</td> \n",
       "        <td id=\"T_3f240ed0_22ce_11e8_bd97_485ab6c270e8row1_col3\" class=\"data row1 col3\" >233</td> \n",
       "    </tr>    <tr> \n",
       "        <th id=\"T_3f240ed0_22ce_11e8_bd97_485ab6c270e8\" class=\"row_heading level0 row2\" rowspan=2>male</th> \n",
       "        <th id=\"T_3f240ed0_22ce_11e8_bd97_485ab6c270e8\" class=\"row_heading level1 row2\" >0</th> \n",
       "        <td id=\"T_3f240ed0_22ce_11e8_bd97_485ab6c270e8row2_col0\" class=\"data row2 col0\" >77</td> \n",
       "        <td id=\"T_3f240ed0_22ce_11e8_bd97_485ab6c270e8row2_col1\" class=\"data row2 col1\" >91</td> \n",
       "        <td id=\"T_3f240ed0_22ce_11e8_bd97_485ab6c270e8row2_col2\" class=\"data row2 col2\" >300</td> \n",
       "        <td id=\"T_3f240ed0_22ce_11e8_bd97_485ab6c270e8row2_col3\" class=\"data row2 col3\" >468</td> \n",
       "    </tr>    <tr> \n",
       "        <th id=\"T_3f240ed0_22ce_11e8_bd97_485ab6c270e8\" class=\"row_heading level1 row3\" >1</th> \n",
       "        <td id=\"T_3f240ed0_22ce_11e8_bd97_485ab6c270e8row3_col0\" class=\"data row3 col0\" >45</td> \n",
       "        <td id=\"T_3f240ed0_22ce_11e8_bd97_485ab6c270e8row3_col1\" class=\"data row3 col1\" >17</td> \n",
       "        <td id=\"T_3f240ed0_22ce_11e8_bd97_485ab6c270e8row3_col2\" class=\"data row3 col2\" >47</td> \n",
       "        <td id=\"T_3f240ed0_22ce_11e8_bd97_485ab6c270e8row3_col3\" class=\"data row3 col3\" >109</td> \n",
       "    </tr>    <tr> \n",
       "        <th id=\"T_3f240ed0_22ce_11e8_bd97_485ab6c270e8\" class=\"row_heading level0 row4\" >All</th> \n",
       "        <th id=\"T_3f240ed0_22ce_11e8_bd97_485ab6c270e8\" class=\"row_heading level1 row4\" ></th> \n",
       "        <td id=\"T_3f240ed0_22ce_11e8_bd97_485ab6c270e8row4_col0\" class=\"data row4 col0\" >216</td> \n",
       "        <td id=\"T_3f240ed0_22ce_11e8_bd97_485ab6c270e8row4_col1\" class=\"data row4 col1\" >184</td> \n",
       "        <td id=\"T_3f240ed0_22ce_11e8_bd97_485ab6c270e8row4_col2\" class=\"data row4 col2\" >491</td> \n",
       "        <td id=\"T_3f240ed0_22ce_11e8_bd97_485ab6c270e8row4_col3\" class=\"data row4 col3\" >891</td> \n",
       "    </tr></tbody> \n",
       "</table> "
      ],
      "text/plain": [
       "<pandas.io.formats.style.Styler at 0x24aabb97b8>"
      ]
     },
     "execution_count": 22,
     "metadata": {},
     "output_type": "execute_result"
    }
   ],
   "source": [
    "pd.crosstab([train_data.Sex,train_data.Survived],train_data.Pclass,margins=True).style.background_gradient(cmap='summer_r')"
   ]
  },
  {
   "cell_type": "code",
   "execution_count": 23,
   "metadata": {},
   "outputs": [
    {
     "data": {
      "image/png": "[encoded data removed]",
      "text/plain": [
       "<matplotlib.figure.Figure at 0x24aab67550>"
      ]
     },
     "metadata": {},
     "output_type": "display_data"
    }
   ],
   "source": [
    "sb.factorplot('Pclass', 'Survived', hue='Sex', data=train_data)\n",
    "plt.show()"
   ]
  },
  {
   "cell_type": "markdown",
   "metadata": {},
   "source": [
    "I use FactorPlot and CrossTab here because with these plots categorical variables can easily be visualized. Looking at FactorPlot and CrossTab, it is clear that women survival rate in Class 1 is about 95-96%, as only 3 out of 94 women died. So, it is now more clear that irrespective of Class, women are given first priority during Rescue. Because survival rate for men in even Class 1 is also very low.\n",
    "From this conclusion, PClass is also a important feature."
   ]
  },
  {
   "cell_type": "code",
   "execution_count": 26,
   "metadata": {},
   "outputs": [
    {
     "name": "stdout",
     "output_type": "stream",
     "text": [
      "Oldest person Survived was of: 80.0\n",
      "Youngest person Survived was of: 0.42\n",
      "Average person Survived was of: 29.69911764705882\n"
     ]
    }
   ],
   "source": [
    "print('Oldest person Survived was of:',train_data['Age'].max())\n",
    "print('Youngest person Survived was of:',train_data['Age'].min())\n",
    "print('Average person Survived was of:',train_data['Age'].mean())"
   ]
  },
  {
   "cell_type": "code",
   "execution_count": 30,
   "metadata": {},
   "outputs": [
    {
     "data": {
      "image/png": "[encoded data removed]",
      "text/plain": [
       "<matplotlib.figure.Figure at 0x24aaf42978>"
      ]
     },
     "metadata": {},
     "output_type": "display_data"
    }
   ],
   "source": [
    "f,ax=plt.subplots(1,2,figsize=(18,8))\n",
    "sb.violinplot('Pclass','Age',hue='Survived',data=train_data,split=True,ax=ax[0])\n",
    "ax[0].set_title('PClass and Age vs Survived')\n",
    "ax[0].set_yticks(range(0,110,10))\n",
    "sb.violinplot(\"Sex\",\"Age\", hue=\"Survived\", data=train_data,split=True,ax=ax[1])\n",
    "ax[1].set_title('Sex and Age vs Survived')\n",
    "ax[1].set_yticks(range(0,110,10))\n",
    "plt.show()\n"
   ]
  },
  {
   "cell_type": "markdown",
   "metadata": {},
   "source": [
    "From above violen plots, following observations are clear,\n",
    "1) The no of children is increasing from Class 1 to 3, the number of children in Class 3 is greater than other two. \n",
    "2) Survival rate of children, for age 10 and below is good irrespective of Class\n",
    "3) Survival rate between age 20-30 is well and is quite better for women.\n",
    "\n",
    "Now, in Age feature we have 177 null values filled with NaN. We have to deal with it. But we can't enter mean of age in every NaN column, because our average/mean is 29 and we cannot put 29 for a child or some olde man. So we have to discover something better. \n",
    "Let's do something more interesting with dataset by exploring more."
   ]
  },
  {
   "cell_type": "markdown",
   "metadata": {},
   "source": [
    "What is, if I look at 'Name' feature, It looks interesting. Let's check it...."
   ]
  },
  {
   "cell_type": "code",
   "execution_count": 32,
   "metadata": {},
   "outputs": [],
   "source": [
    "train_data['Initial']=0\n",
    "for i in train_data:\n",
    "    train_data['Initial']=train_data.Name.str.extract('([A-Za-z]+)\\.') #extracting Name initials"
   ]
  },
  {
   "cell_type": "code",
   "execution_count": 34,
   "metadata": {},
   "outputs": [
    {
     "data": {
      "text/html": [
       "<style  type=\"text/css\" >\n",
       "    #T_78a771d0_2357_11e8_b267_485ab6c270e8row0_col0 {\n",
       "            background-color:  #ffff66;\n",
       "        }    #T_78a771d0_2357_11e8_b267_485ab6c270e8row0_col1 {\n",
       "            background-color:  #ffff66;\n",
       "        }    #T_78a771d0_2357_11e8_b267_485ab6c270e8row0_col2 {\n",
       "            background-color:  #008066;\n",
       "        }    #T_78a771d0_2357_11e8_b267_485ab6c270e8row0_col3 {\n",
       "            background-color:  #ffff66;\n",
       "        }    #T_78a771d0_2357_11e8_b267_485ab6c270e8row0_col4 {\n",
       "            background-color:  #ffff66;\n",
       "        }    #T_78a771d0_2357_11e8_b267_485ab6c270e8row0_col5 {\n",
       "            background-color:  #ffff66;\n",
       "        }    #T_78a771d0_2357_11e8_b267_485ab6c270e8row0_col6 {\n",
       "            background-color:  #008066;\n",
       "        }    #T_78a771d0_2357_11e8_b267_485ab6c270e8row0_col7 {\n",
       "            background-color:  #ffff66;\n",
       "        }    #T_78a771d0_2357_11e8_b267_485ab6c270e8row0_col8 {\n",
       "            background-color:  #ffff66;\n",
       "        }    #T_78a771d0_2357_11e8_b267_485ab6c270e8row0_col9 {\n",
       "            background-color:  #008066;\n",
       "        }    #T_78a771d0_2357_11e8_b267_485ab6c270e8row0_col10 {\n",
       "            background-color:  #008066;\n",
       "        }    #T_78a771d0_2357_11e8_b267_485ab6c270e8row0_col11 {\n",
       "            background-color:  #008066;\n",
       "        }    #T_78a771d0_2357_11e8_b267_485ab6c270e8row0_col12 {\n",
       "            background-color:  #ffff66;\n",
       "        }    #T_78a771d0_2357_11e8_b267_485ab6c270e8row0_col13 {\n",
       "            background-color:  #008066;\n",
       "        }    #T_78a771d0_2357_11e8_b267_485ab6c270e8row0_col14 {\n",
       "            background-color:  #008066;\n",
       "        }    #T_78a771d0_2357_11e8_b267_485ab6c270e8row0_col15 {\n",
       "            background-color:  #ffff66;\n",
       "        }    #T_78a771d0_2357_11e8_b267_485ab6c270e8row0_col16 {\n",
       "            background-color:  #ffff66;\n",
       "        }    #T_78a771d0_2357_11e8_b267_485ab6c270e8row1_col0 {\n",
       "            background-color:  #008066;\n",
       "        }    #T_78a771d0_2357_11e8_b267_485ab6c270e8row1_col1 {\n",
       "            background-color:  #008066;\n",
       "        }    #T_78a771d0_2357_11e8_b267_485ab6c270e8row1_col2 {\n",
       "            background-color:  #ffff66;\n",
       "        }    #T_78a771d0_2357_11e8_b267_485ab6c270e8row1_col3 {\n",
       "            background-color:  #008066;\n",
       "        }    #T_78a771d0_2357_11e8_b267_485ab6c270e8row1_col4 {\n",
       "            background-color:  #008066;\n",
       "        }    #T_78a771d0_2357_11e8_b267_485ab6c270e8row1_col5 {\n",
       "            background-color:  #008066;\n",
       "        }    #T_78a771d0_2357_11e8_b267_485ab6c270e8row1_col6 {\n",
       "            background-color:  #ffff66;\n",
       "        }    #T_78a771d0_2357_11e8_b267_485ab6c270e8row1_col7 {\n",
       "            background-color:  #008066;\n",
       "        }    #T_78a771d0_2357_11e8_b267_485ab6c270e8row1_col8 {\n",
       "            background-color:  #008066;\n",
       "        }    #T_78a771d0_2357_11e8_b267_485ab6c270e8row1_col9 {\n",
       "            background-color:  #ffff66;\n",
       "        }    #T_78a771d0_2357_11e8_b267_485ab6c270e8row1_col10 {\n",
       "            background-color:  #ffff66;\n",
       "        }    #T_78a771d0_2357_11e8_b267_485ab6c270e8row1_col11 {\n",
       "            background-color:  #ffff66;\n",
       "        }    #T_78a771d0_2357_11e8_b267_485ab6c270e8row1_col12 {\n",
       "            background-color:  #008066;\n",
       "        }    #T_78a771d0_2357_11e8_b267_485ab6c270e8row1_col13 {\n",
       "            background-color:  #ffff66;\n",
       "        }    #T_78a771d0_2357_11e8_b267_485ab6c270e8row1_col14 {\n",
       "            background-color:  #ffff66;\n",
       "        }    #T_78a771d0_2357_11e8_b267_485ab6c270e8row1_col15 {\n",
       "            background-color:  #008066;\n",
       "        }    #T_78a771d0_2357_11e8_b267_485ab6c270e8row1_col16 {\n",
       "            background-color:  #008066;\n",
       "        }</style>  \n",
       "<table id=\"T_78a771d0_2357_11e8_b267_485ab6c270e8\" > \n",
       "<thead>    <tr> \n",
       "        <th class=\"index_name level0\" >Initial</th> \n",
       "        <th class=\"col_heading level0 col0\" >Capt</th> \n",
       "        <th class=\"col_heading level0 col1\" >Col</th> \n",
       "        <th class=\"col_heading level0 col2\" >Countess</th> \n",
       "        <th class=\"col_heading level0 col3\" >Don</th> \n",
       "        <th class=\"col_heading level0 col4\" >Dr</th> \n",
       "        <th class=\"col_heading level0 col5\" >Jonkheer</th> \n",
       "        <th class=\"col_heading level0 col6\" >Lady</th> \n",
       "        <th class=\"col_heading level0 col7\" >Major</th> \n",
       "        <th class=\"col_heading level0 col8\" >Master</th> \n",
       "        <th class=\"col_heading level0 col9\" >Miss</th> \n",
       "        <th class=\"col_heading level0 col10\" >Mlle</th> \n",
       "        <th class=\"col_heading level0 col11\" >Mme</th> \n",
       "        <th class=\"col_heading level0 col12\" >Mr</th> \n",
       "        <th class=\"col_heading level0 col13\" >Mrs</th> \n",
       "        <th class=\"col_heading level0 col14\" >Ms</th> \n",
       "        <th class=\"col_heading level0 col15\" >Rev</th> \n",
       "        <th class=\"col_heading level0 col16\" >Sir</th> \n",
       "    </tr>    <tr> \n",
       "        <th class=\"index_name level0\" >Sex</th> \n",
       "        <th class=\"blank\" ></th> \n",
       "        <th class=\"blank\" ></th> \n",
       "        <th class=\"blank\" ></th> \n",
       "        <th class=\"blank\" ></th> \n",
       "        <th class=\"blank\" ></th> \n",
       "        <th class=\"blank\" ></th> \n",
       "        <th class=\"blank\" ></th> \n",
       "        <th class=\"blank\" ></th> \n",
       "        <th class=\"blank\" ></th> \n",
       "        <th class=\"blank\" ></th> \n",
       "        <th class=\"blank\" ></th> \n",
       "        <th class=\"blank\" ></th> \n",
       "        <th class=\"blank\" ></th> \n",
       "        <th class=\"blank\" ></th> \n",
       "        <th class=\"blank\" ></th> \n",
       "        <th class=\"blank\" ></th> \n",
       "        <th class=\"blank\" ></th> \n",
       "    </tr></thead> \n",
       "<tbody>    <tr> \n",
       "        <th id=\"T_78a771d0_2357_11e8_b267_485ab6c270e8\" class=\"row_heading level0 row0\" >female</th> \n",
       "        <td id=\"T_78a771d0_2357_11e8_b267_485ab6c270e8row0_col0\" class=\"data row0 col0\" >0</td> \n",
       "        <td id=\"T_78a771d0_2357_11e8_b267_485ab6c270e8row0_col1\" class=\"data row0 col1\" >0</td> \n",
       "        <td id=\"T_78a771d0_2357_11e8_b267_485ab6c270e8row0_col2\" class=\"data row0 col2\" >1</td> \n",
       "        <td id=\"T_78a771d0_2357_11e8_b267_485ab6c270e8row0_col3\" class=\"data row0 col3\" >0</td> \n",
       "        <td id=\"T_78a771d0_2357_11e8_b267_485ab6c270e8row0_col4\" class=\"data row0 col4\" >1</td> \n",
       "        <td id=\"T_78a771d0_2357_11e8_b267_485ab6c270e8row0_col5\" class=\"data row0 col5\" >0</td> \n",
       "        <td id=\"T_78a771d0_2357_11e8_b267_485ab6c270e8row0_col6\" class=\"data row0 col6\" >1</td> \n",
       "        <td id=\"T_78a771d0_2357_11e8_b267_485ab6c270e8row0_col7\" class=\"data row0 col7\" >0</td> \n",
       "        <td id=\"T_78a771d0_2357_11e8_b267_485ab6c270e8row0_col8\" class=\"data row0 col8\" >0</td> \n",
       "        <td id=\"T_78a771d0_2357_11e8_b267_485ab6c270e8row0_col9\" class=\"data row0 col9\" >182</td> \n",
       "        <td id=\"T_78a771d0_2357_11e8_b267_485ab6c270e8row0_col10\" class=\"data row0 col10\" >2</td> \n",
       "        <td id=\"T_78a771d0_2357_11e8_b267_485ab6c270e8row0_col11\" class=\"data row0 col11\" >1</td> \n",
       "        <td id=\"T_78a771d0_2357_11e8_b267_485ab6c270e8row0_col12\" class=\"data row0 col12\" >0</td> \n",
       "        <td id=\"T_78a771d0_2357_11e8_b267_485ab6c270e8row0_col13\" class=\"data row0 col13\" >125</td> \n",
       "        <td id=\"T_78a771d0_2357_11e8_b267_485ab6c270e8row0_col14\" class=\"data row0 col14\" >1</td> \n",
       "        <td id=\"T_78a771d0_2357_11e8_b267_485ab6c270e8row0_col15\" class=\"data row0 col15\" >0</td> \n",
       "        <td id=\"T_78a771d0_2357_11e8_b267_485ab6c270e8row0_col16\" class=\"data row0 col16\" >0</td> \n",
       "    </tr>    <tr> \n",
       "        <th id=\"T_78a771d0_2357_11e8_b267_485ab6c270e8\" class=\"row_heading level0 row1\" >male</th> \n",
       "        <td id=\"T_78a771d0_2357_11e8_b267_485ab6c270e8row1_col0\" class=\"data row1 col0\" >1</td> \n",
       "        <td id=\"T_78a771d0_2357_11e8_b267_485ab6c270e8row1_col1\" class=\"data row1 col1\" >2</td> \n",
       "        <td id=\"T_78a771d0_2357_11e8_b267_485ab6c270e8row1_col2\" class=\"data row1 col2\" >0</td> \n",
       "        <td id=\"T_78a771d0_2357_11e8_b267_485ab6c270e8row1_col3\" class=\"data row1 col3\" >1</td> \n",
       "        <td id=\"T_78a771d0_2357_11e8_b267_485ab6c270e8row1_col4\" class=\"data row1 col4\" >6</td> \n",
       "        <td id=\"T_78a771d0_2357_11e8_b267_485ab6c270e8row1_col5\" class=\"data row1 col5\" >1</td> \n",
       "        <td id=\"T_78a771d0_2357_11e8_b267_485ab6c270e8row1_col6\" class=\"data row1 col6\" >0</td> \n",
       "        <td id=\"T_78a771d0_2357_11e8_b267_485ab6c270e8row1_col7\" class=\"data row1 col7\" >2</td> \n",
       "        <td id=\"T_78a771d0_2357_11e8_b267_485ab6c270e8row1_col8\" class=\"data row1 col8\" >40</td> \n",
       "        <td id=\"T_78a771d0_2357_11e8_b267_485ab6c270e8row1_col9\" class=\"data row1 col9\" >0</td> \n",
       "        <td id=\"T_78a771d0_2357_11e8_b267_485ab6c270e8row1_col10\" class=\"data row1 col10\" >0</td> \n",
       "        <td id=\"T_78a771d0_2357_11e8_b267_485ab6c270e8row1_col11\" class=\"data row1 col11\" >0</td> \n",
       "        <td id=\"T_78a771d0_2357_11e8_b267_485ab6c270e8row1_col12\" class=\"data row1 col12\" >517</td> \n",
       "        <td id=\"T_78a771d0_2357_11e8_b267_485ab6c270e8row1_col13\" class=\"data row1 col13\" >0</td> \n",
       "        <td id=\"T_78a771d0_2357_11e8_b267_485ab6c270e8row1_col14\" class=\"data row1 col14\" >0</td> \n",
       "        <td id=\"T_78a771d0_2357_11e8_b267_485ab6c270e8row1_col15\" class=\"data row1 col15\" >6</td> \n",
       "        <td id=\"T_78a771d0_2357_11e8_b267_485ab6c270e8row1_col16\" class=\"data row1 col16\" >1</td> \n",
       "    </tr></tbody> \n",
       "</table> "
      ],
      "text/plain": [
       "<pandas.io.formats.style.Styler at 0x24a5578470>"
      ]
     },
     "execution_count": 34,
     "metadata": {},
     "output_type": "execute_result"
    }
   ],
   "source": [
    "pd.crosstab(train_data.Initial,train_data.Sex).T.style.background_gradient(cmap='summer_r')\n"
   ]
  },
  {
   "cell_type": "markdown",
   "metadata": {},
   "source": [
    "There are many names which are not relevant like Mr, Mrs etc. So I will replace them with some relevant names,"
   ]
  },
  {
   "cell_type": "code",
   "execution_count": 35,
   "metadata": {
    "collapsed": true
   },
   "outputs": [],
   "source": [
    "train_data['Initial'].replace(['Mlle','Mme','Ms','Dr','Major','Lady','Countess',\n",
    "                               'Jonkheer','Col','Rev','Capt','Sir','Don'],['Miss',\n",
    "                                'Miss','Miss','Mr','Mr','Mrs','Mrs','Other','Other','Other','Mr','Mr','Mr'],inplace=True)"
   ]
  },
  {
   "cell_type": "code",
   "execution_count": 36,
   "metadata": {},
   "outputs": [
    {
     "data": {
      "text/plain": [
       "Initial\n",
       "Master     4.574167\n",
       "Miss      21.860000\n",
       "Mr        32.739609\n",
       "Mrs       35.981818\n",
       "Other     45.888889\n",
       "Name: Age, dtype: float64"
      ]
     },
     "execution_count": 36,
     "metadata": {},
     "output_type": "execute_result"
    }
   ],
   "source": [
    "train_data.groupby('Initial')['Age'].mean()"
   ]
  },
  {
   "cell_type": "code",
   "execution_count": 38,
   "metadata": {},
   "outputs": [],
   "source": [
    "train_data.loc[(train_data.Age.isnull()) & (train_data.Initial=='Mr'),'Age']=33\n",
    "train_data.loc[(train_data.Age.isnull()) & (train_data.Initial=='Mrs'),'Age']=36\n",
    "train_data.loc[(train_data.Age.isnull()) & (train_data.Initial=='Master'),'Age']=5\n",
    "train_data.loc[(train_data.Age.isnull()) & (train_data.Initial=='Miss'),'Age']=22\n",
    "train_data.loc[(train_data.Age.isnull()) & (train_data.Initial=='Other'),'Age']=46"
   ]
  },
  {
   "cell_type": "code",
   "execution_count": 40,
   "metadata": {},
   "outputs": [
    {
     "data": {
      "text/plain": [
       "False"
      ]
     },
     "execution_count": 40,
     "metadata": {},
     "output_type": "execute_result"
    }
   ],
   "source": [
    "train_data.Age.isnull().any()"
   ]
  },
  {
   "cell_type": "code",
   "execution_count": 55,
   "metadata": {},
   "outputs": [
    {
     "data": {
      "image/png": "[encoded data removed]",
      "text/plain": [
       "<matplotlib.figure.Figure at 0x24b0274e80>"
      ]
     },
     "metadata": {},
     "output_type": "display_data"
    }
   ],
   "source": [
    "f,ax=plt.subplots(1,2,figsize=(20,20))\n",
    "train_data[train_data['Survived']==0].Age.plot.hist(ax=ax[0],bins=20,edgecolor='black',color='red')\n",
    "ax[0].set_title('Survived = 0')\n",
    "x1=list(range(0,85,5))\n",
    "ax[0].set_xticks(x1)\n",
    "train_data[train_data['Survived']==1].Age.plot.hist(ax=ax[1],bins=20,edgecolor='black',color='green')\n",
    "x2=list(range(0,85,5))\n",
    "ax[1].set_xticks(x2)\n",
    "ax[1].set_title('Survived = 1')\n",
    "plt.show()"
   ]
  },
  {
   "cell_type": "markdown",
   "metadata": {},
   "source": [
    "From the above plots, I found the following observations\n"
   ]
  },
  {
   "cell_type": "markdown",
   "metadata": {},
   "source": [
    "(1) First priority during Rescue is given to children and women, as the persons<5 are save by large numbers\n",
    "(2) The oldest saved passanger is of 80\n",
    "(3) The most deaths were between 30-40"
   ]
  },
  {
   "cell_type": "code",
   "execution_count": 56,
   "metadata": {},
   "outputs": [
    {
     "data": {
      "image/png": "[encoded data removed]",
      "text/plain": [
       "<matplotlib.figure.Figure at 0x24b0269898>"
      ]
     },
     "metadata": {},
     "output_type": "display_data"
    }
   ],
   "source": [
    "sb.factorplot('Pclass','Survived',col='Initial',data=train_data)\n",
    "plt.show()"
   ]
  },
  {
   "cell_type": "markdown",
   "metadata": {},
   "source": [
    "From the above FactorPlots it is Clearly seen that women and children were saved irrespective of PClass"
   ]
  },
  {
   "cell_type": "markdown",
   "metadata": {},
   "source": [
    "Let's explore some more"
   ]
  },
  {
   "cell_type": "markdown",
   "metadata": {},
   "source": [
    "# Feature: SibSip"
   ]
  },
  {
   "cell_type": "markdown",
   "metadata": {},
   "source": [
    "SibSip feature indicates that whether a person is alone or with his family. Siblings=brother,sister, etc\n",
    "and Spouse= husband,wife"
   ]
  },
  {
   "cell_type": "code",
   "execution_count": 57,
   "metadata": {},
   "outputs": [
    {
     "data": {
      "text/html": [
       "<style  type=\"text/css\" >\n",
       "    #T_dd00d0ec_23bb_11e8_9099_485ab6c270e8row0_col0 {\n",
       "            background-color:  #008066;\n",
       "        }    #T_dd00d0ec_23bb_11e8_9099_485ab6c270e8row0_col1 {\n",
       "            background-color:  #008066;\n",
       "        }    #T_dd00d0ec_23bb_11e8_9099_485ab6c270e8row1_col0 {\n",
       "            background-color:  #c4e266;\n",
       "        }    #T_dd00d0ec_23bb_11e8_9099_485ab6c270e8row1_col1 {\n",
       "            background-color:  #77bb66;\n",
       "        }    #T_dd00d0ec_23bb_11e8_9099_485ab6c270e8row2_col0 {\n",
       "            background-color:  #f9fc66;\n",
       "        }    #T_dd00d0ec_23bb_11e8_9099_485ab6c270e8row2_col1 {\n",
       "            background-color:  #f0f866;\n",
       "        }    #T_dd00d0ec_23bb_11e8_9099_485ab6c270e8row3_col0 {\n",
       "            background-color:  #fbfd66;\n",
       "        }    #T_dd00d0ec_23bb_11e8_9099_485ab6c270e8row3_col1 {\n",
       "            background-color:  #fbfd66;\n",
       "        }    #T_dd00d0ec_23bb_11e8_9099_485ab6c270e8row4_col0 {\n",
       "            background-color:  #f9fc66;\n",
       "        }    #T_dd00d0ec_23bb_11e8_9099_485ab6c270e8row4_col1 {\n",
       "            background-color:  #fcfe66;\n",
       "        }    #T_dd00d0ec_23bb_11e8_9099_485ab6c270e8row5_col0 {\n",
       "            background-color:  #ffff66;\n",
       "        }    #T_dd00d0ec_23bb_11e8_9099_485ab6c270e8row5_col1 {\n",
       "            background-color:  #ffff66;\n",
       "        }    #T_dd00d0ec_23bb_11e8_9099_485ab6c270e8row6_col0 {\n",
       "            background-color:  #fefe66;\n",
       "        }    #T_dd00d0ec_23bb_11e8_9099_485ab6c270e8row6_col1 {\n",
       "            background-color:  #ffff66;\n",
       "        }</style>  \n",
       "<table id=\"T_dd00d0ec_23bb_11e8_9099_485ab6c270e8\" > \n",
       "<thead>    <tr> \n",
       "        <th class=\"index_name level0\" >Survived</th> \n",
       "        <th class=\"col_heading level0 col0\" >0</th> \n",
       "        <th class=\"col_heading level0 col1\" >1</th> \n",
       "    </tr>    <tr> \n",
       "        <th class=\"index_name level0\" >SibSp</th> \n",
       "        <th class=\"blank\" ></th> \n",
       "        <th class=\"blank\" ></th> \n",
       "    </tr></thead> \n",
       "<tbody>    <tr> \n",
       "        <th id=\"T_dd00d0ec_23bb_11e8_9099_485ab6c270e8\" class=\"row_heading level0 row0\" >0</th> \n",
       "        <td id=\"T_dd00d0ec_23bb_11e8_9099_485ab6c270e8row0_col0\" class=\"data row0 col0\" >398</td> \n",
       "        <td id=\"T_dd00d0ec_23bb_11e8_9099_485ab6c270e8row0_col1\" class=\"data row0 col1\" >210</td> \n",
       "    </tr>    <tr> \n",
       "        <th id=\"T_dd00d0ec_23bb_11e8_9099_485ab6c270e8\" class=\"row_heading level0 row1\" >1</th> \n",
       "        <td id=\"T_dd00d0ec_23bb_11e8_9099_485ab6c270e8row1_col0\" class=\"data row1 col0\" >97</td> \n",
       "        <td id=\"T_dd00d0ec_23bb_11e8_9099_485ab6c270e8row1_col1\" class=\"data row1 col1\" >112</td> \n",
       "    </tr>    <tr> \n",
       "        <th id=\"T_dd00d0ec_23bb_11e8_9099_485ab6c270e8\" class=\"row_heading level0 row2\" >2</th> \n",
       "        <td id=\"T_dd00d0ec_23bb_11e8_9099_485ab6c270e8row2_col0\" class=\"data row2 col0\" >15</td> \n",
       "        <td id=\"T_dd00d0ec_23bb_11e8_9099_485ab6c270e8row2_col1\" class=\"data row2 col1\" >13</td> \n",
       "    </tr>    <tr> \n",
       "        <th id=\"T_dd00d0ec_23bb_11e8_9099_485ab6c270e8\" class=\"row_heading level0 row3\" >3</th> \n",
       "        <td id=\"T_dd00d0ec_23bb_11e8_9099_485ab6c270e8row3_col0\" class=\"data row3 col0\" >12</td> \n",
       "        <td id=\"T_dd00d0ec_23bb_11e8_9099_485ab6c270e8row3_col1\" class=\"data row3 col1\" >4</td> \n",
       "    </tr>    <tr> \n",
       "        <th id=\"T_dd00d0ec_23bb_11e8_9099_485ab6c270e8\" class=\"row_heading level0 row4\" >4</th> \n",
       "        <td id=\"T_dd00d0ec_23bb_11e8_9099_485ab6c270e8row4_col0\" class=\"data row4 col0\" >15</td> \n",
       "        <td id=\"T_dd00d0ec_23bb_11e8_9099_485ab6c270e8row4_col1\" class=\"data row4 col1\" >3</td> \n",
       "    </tr>    <tr> \n",
       "        <th id=\"T_dd00d0ec_23bb_11e8_9099_485ab6c270e8\" class=\"row_heading level0 row5\" >5</th> \n",
       "        <td id=\"T_dd00d0ec_23bb_11e8_9099_485ab6c270e8row5_col0\" class=\"data row5 col0\" >5</td> \n",
       "        <td id=\"T_dd00d0ec_23bb_11e8_9099_485ab6c270e8row5_col1\" class=\"data row5 col1\" >0</td> \n",
       "    </tr>    <tr> \n",
       "        <th id=\"T_dd00d0ec_23bb_11e8_9099_485ab6c270e8\" class=\"row_heading level0 row6\" >8</th> \n",
       "        <td id=\"T_dd00d0ec_23bb_11e8_9099_485ab6c270e8row6_col0\" class=\"data row6 col0\" >7</td> \n",
       "        <td id=\"T_dd00d0ec_23bb_11e8_9099_485ab6c270e8row6_col1\" class=\"data row6 col1\" >0</td> \n",
       "    </tr></tbody> \n",
       "</table> "
      ],
      "text/plain": [
       "<pandas.io.formats.style.Styler at 0x24b03ef748>"
      ]
     },
     "execution_count": 57,
     "metadata": {},
     "output_type": "execute_result"
    }
   ],
   "source": [
    "pd.crosstab([train_data.SibSp],train_data.Survived).style.background_gradient('summer_r')"
   ]
  },
  {
   "cell_type": "code",
   "execution_count": 61,
   "metadata": {},
   "outputs": [
    {
     "data": {
      "image/png": "[encoded data removed]",
      "text/plain": [
       "<matplotlib.figure.Figure at 0x24b03f5668>"
      ]
     },
     "metadata": {},
     "output_type": "display_data"
    }
   ],
   "source": [
    "f,ax=plt.subplots(1,2,figsize=(20,8))\n",
    "sb.barplot('SibSp','Survived', data=train_data,ax=ax[0])\n",
    "ax[0].set_title('SipSp vs Survived in BarPlot')\n",
    "sb.factorplot('SibSp','Survived', data=train_data,ax=ax[1])\n",
    "ax[1].set_title('SibSp vs Survived in FactorPlot')\n",
    "plt.close(2)\n",
    "plt.show()"
   ]
  },
  {
   "cell_type": "code",
   "execution_count": 62,
   "metadata": {},
   "outputs": [
    {
     "data": {
      "text/html": [
       "<style  type=\"text/css\" >\n",
       "    #T_ca9a9e54_23bc_11e8_aff5_485ab6c270e8row0_col0 {\n",
       "            background-color:  #008066;\n",
       "        }    #T_ca9a9e54_23bc_11e8_aff5_485ab6c270e8row0_col1 {\n",
       "            background-color:  #008066;\n",
       "        }    #T_ca9a9e54_23bc_11e8_aff5_485ab6c270e8row0_col2 {\n",
       "            background-color:  #008066;\n",
       "        }    #T_ca9a9e54_23bc_11e8_aff5_485ab6c270e8row1_col0 {\n",
       "            background-color:  #7bbd66;\n",
       "        }    #T_ca9a9e54_23bc_11e8_aff5_485ab6c270e8row1_col1 {\n",
       "            background-color:  #8ac466;\n",
       "        }    #T_ca9a9e54_23bc_11e8_aff5_485ab6c270e8row1_col2 {\n",
       "            background-color:  #c6e266;\n",
       "        }    #T_ca9a9e54_23bc_11e8_aff5_485ab6c270e8row2_col0 {\n",
       "            background-color:  #f6fa66;\n",
       "        }    #T_ca9a9e54_23bc_11e8_aff5_485ab6c270e8row2_col1 {\n",
       "            background-color:  #eef666;\n",
       "        }    #T_ca9a9e54_23bc_11e8_aff5_485ab6c270e8row2_col2 {\n",
       "            background-color:  #f8fc66;\n",
       "        }    #T_ca9a9e54_23bc_11e8_aff5_485ab6c270e8row3_col0 {\n",
       "            background-color:  #fafc66;\n",
       "        }    #T_ca9a9e54_23bc_11e8_aff5_485ab6c270e8row3_col1 {\n",
       "            background-color:  #fdfe66;\n",
       "        }    #T_ca9a9e54_23bc_11e8_aff5_485ab6c270e8row3_col2 {\n",
       "            background-color:  #fafc66;\n",
       "        }    #T_ca9a9e54_23bc_11e8_aff5_485ab6c270e8row4_col0 {\n",
       "            background-color:  #ffff66;\n",
       "        }    #T_ca9a9e54_23bc_11e8_aff5_485ab6c270e8row4_col1 {\n",
       "            background-color:  #ffff66;\n",
       "        }    #T_ca9a9e54_23bc_11e8_aff5_485ab6c270e8row4_col2 {\n",
       "            background-color:  #f6fa66;\n",
       "        }    #T_ca9a9e54_23bc_11e8_aff5_485ab6c270e8row5_col0 {\n",
       "            background-color:  #ffff66;\n",
       "        }    #T_ca9a9e54_23bc_11e8_aff5_485ab6c270e8row5_col1 {\n",
       "            background-color:  #ffff66;\n",
       "        }    #T_ca9a9e54_23bc_11e8_aff5_485ab6c270e8row5_col2 {\n",
       "            background-color:  #ffff66;\n",
       "        }    #T_ca9a9e54_23bc_11e8_aff5_485ab6c270e8row6_col0 {\n",
       "            background-color:  #ffff66;\n",
       "        }    #T_ca9a9e54_23bc_11e8_aff5_485ab6c270e8row6_col1 {\n",
       "            background-color:  #ffff66;\n",
       "        }    #T_ca9a9e54_23bc_11e8_aff5_485ab6c270e8row6_col2 {\n",
       "            background-color:  #fefe66;\n",
       "        }</style>  \n",
       "<table id=\"T_ca9a9e54_23bc_11e8_aff5_485ab6c270e8\" > \n",
       "<thead>    <tr> \n",
       "        <th class=\"index_name level0\" >Pclass</th> \n",
       "        <th class=\"col_heading level0 col0\" >1</th> \n",
       "        <th class=\"col_heading level0 col1\" >2</th> \n",
       "        <th class=\"col_heading level0 col2\" >3</th> \n",
       "    </tr>    <tr> \n",
       "        <th class=\"index_name level0\" >SibSp</th> \n",
       "        <th class=\"blank\" ></th> \n",
       "        <th class=\"blank\" ></th> \n",
       "        <th class=\"blank\" ></th> \n",
       "    </tr></thead> \n",
       "<tbody>    <tr> \n",
       "        <th id=\"T_ca9a9e54_23bc_11e8_aff5_485ab6c270e8\" class=\"row_heading level0 row0\" >0</th> \n",
       "        <td id=\"T_ca9a9e54_23bc_11e8_aff5_485ab6c270e8row0_col0\" class=\"data row0 col0\" >137</td> \n",
       "        <td id=\"T_ca9a9e54_23bc_11e8_aff5_485ab6c270e8row0_col1\" class=\"data row0 col1\" >120</td> \n",
       "        <td id=\"T_ca9a9e54_23bc_11e8_aff5_485ab6c270e8row0_col2\" class=\"data row0 col2\" >351</td> \n",
       "    </tr>    <tr> \n",
       "        <th id=\"T_ca9a9e54_23bc_11e8_aff5_485ab6c270e8\" class=\"row_heading level0 row1\" >1</th> \n",
       "        <td id=\"T_ca9a9e54_23bc_11e8_aff5_485ab6c270e8row1_col0\" class=\"data row1 col0\" >71</td> \n",
       "        <td id=\"T_ca9a9e54_23bc_11e8_aff5_485ab6c270e8row1_col1\" class=\"data row1 col1\" >55</td> \n",
       "        <td id=\"T_ca9a9e54_23bc_11e8_aff5_485ab6c270e8row1_col2\" class=\"data row1 col2\" >83</td> \n",
       "    </tr>    <tr> \n",
       "        <th id=\"T_ca9a9e54_23bc_11e8_aff5_485ab6c270e8\" class=\"row_heading level0 row2\" >2</th> \n",
       "        <td id=\"T_ca9a9e54_23bc_11e8_aff5_485ab6c270e8row2_col0\" class=\"data row2 col0\" >5</td> \n",
       "        <td id=\"T_ca9a9e54_23bc_11e8_aff5_485ab6c270e8row2_col1\" class=\"data row2 col1\" >8</td> \n",
       "        <td id=\"T_ca9a9e54_23bc_11e8_aff5_485ab6c270e8row2_col2\" class=\"data row2 col2\" >15</td> \n",
       "    </tr>    <tr> \n",
       "        <th id=\"T_ca9a9e54_23bc_11e8_aff5_485ab6c270e8\" class=\"row_heading level0 row3\" >3</th> \n",
       "        <td id=\"T_ca9a9e54_23bc_11e8_aff5_485ab6c270e8row3_col0\" class=\"data row3 col0\" >3</td> \n",
       "        <td id=\"T_ca9a9e54_23bc_11e8_aff5_485ab6c270e8row3_col1\" class=\"data row3 col1\" >1</td> \n",
       "        <td id=\"T_ca9a9e54_23bc_11e8_aff5_485ab6c270e8row3_col2\" class=\"data row3 col2\" >12</td> \n",
       "    </tr>    <tr> \n",
       "        <th id=\"T_ca9a9e54_23bc_11e8_aff5_485ab6c270e8\" class=\"row_heading level0 row4\" >4</th> \n",
       "        <td id=\"T_ca9a9e54_23bc_11e8_aff5_485ab6c270e8row4_col0\" class=\"data row4 col0\" >0</td> \n",
       "        <td id=\"T_ca9a9e54_23bc_11e8_aff5_485ab6c270e8row4_col1\" class=\"data row4 col1\" >0</td> \n",
       "        <td id=\"T_ca9a9e54_23bc_11e8_aff5_485ab6c270e8row4_col2\" class=\"data row4 col2\" >18</td> \n",
       "    </tr>    <tr> \n",
       "        <th id=\"T_ca9a9e54_23bc_11e8_aff5_485ab6c270e8\" class=\"row_heading level0 row5\" >5</th> \n",
       "        <td id=\"T_ca9a9e54_23bc_11e8_aff5_485ab6c270e8row5_col0\" class=\"data row5 col0\" >0</td> \n",
       "        <td id=\"T_ca9a9e54_23bc_11e8_aff5_485ab6c270e8row5_col1\" class=\"data row5 col1\" >0</td> \n",
       "        <td id=\"T_ca9a9e54_23bc_11e8_aff5_485ab6c270e8row5_col2\" class=\"data row5 col2\" >5</td> \n",
       "    </tr>    <tr> \n",
       "        <th id=\"T_ca9a9e54_23bc_11e8_aff5_485ab6c270e8\" class=\"row_heading level0 row6\" >8</th> \n",
       "        <td id=\"T_ca9a9e54_23bc_11e8_aff5_485ab6c270e8row6_col0\" class=\"data row6 col0\" >0</td> \n",
       "        <td id=\"T_ca9a9e54_23bc_11e8_aff5_485ab6c270e8row6_col1\" class=\"data row6 col1\" >0</td> \n",
       "        <td id=\"T_ca9a9e54_23bc_11e8_aff5_485ab6c270e8row6_col2\" class=\"data row6 col2\" >7</td> \n",
       "    </tr></tbody> \n",
       "</table> "
      ],
      "text/plain": [
       "<pandas.io.formats.style.Styler at 0x24b0604ac8>"
      ]
     },
     "execution_count": 62,
     "metadata": {},
     "output_type": "execute_result"
    }
   ],
   "source": [
    "pd.crosstab(train_data.SibSp,train_data.Pclass).style.background_gradient('summer_r')"
   ]
  },
  {
   "cell_type": "markdown",
   "metadata": {},
   "source": [
    "There are many interesting facts with this feature. Barplot and FactorPlot shows that if a passanger is alone in ship with no siblings, survival rate is 34.5%. The graph decreases as no of siblings increase. This is interesting because, If I have a family onboard, I will save them instead of saving myself. But there's something wrong, the survival rate for families with 5-8 members is 0%. Is this because of PClass?\n",
    "Yes this is PClass,  The crosstab shows that Person with SibSp>3 were all in Pclass3. It is imminent that all the large families in Pclass3(>3) died."
   ]
  },
  {
   "cell_type": "markdown",
   "metadata": {},
   "source": [
    "That are some interesting facts we have observed with Titanic dataset."
   ]
  },
  {
   "cell_type": "code",
   "execution_count": null,
   "metadata": {
    "collapsed": true
   },
   "outputs": [],
   "source": []
  }
 ],
 "metadata": {
  "kernelspec": {
   "display_name": "Python 3",
   "language": "python",
   "name": "python3"
  },
  "language_info": {
   "codemirror_mode": {
    "name": "ipython",
    "version": 3
   },
   "file_extension": ".py",
   "mimetype": "text/x-python",
   "name": "python",
   "nbconvert_exporter": "python",
   "pygments_lexer": "ipython3",
   "version": "3.6.1"
  }
 },
 "nbformat": 4,
 "nbformat_minor": 2
}
