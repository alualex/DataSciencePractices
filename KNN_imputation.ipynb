{
  "nbformat": 4,
  "nbformat_minor": 0,
  "metadata": {
    "colab": {
      "provenance": [],
      "authorship_tag": "ABX9TyOBNMuJLNFip89mOUyJX9V+",
      "include_colab_link": true
    },
    "kernelspec": {
      "name": "python3",
      "display_name": "Python 3"
    },
    "language_info": {
      "name": "python"
    }
  },
  "cells": [
    {
      "cell_type": "markdown",
      "metadata": {
        "id": "view-in-github",
        "colab_type": "text"
      },
      "source": [
        "<a href=\"https://colab.research.google.com/github/alualex/DataSciencePractices/blob/master/KNN_imputation.ipynb\" target=\"_parent\"><img src=\"https://colab.research.google.com/assets/colab-badge.svg\" alt=\"Open In Colab\"/></a>"
      ]
    },
    {
      "cell_type": "code",
      "execution_count": 1,
      "metadata": {
        "id": "_V77G4ApoVJ7"
      },
      "outputs": [],
      "source": [
        "import numpy as np\n",
        "from sklearn.impute import KNNImputer"
      ]
    },
    {
      "cell_type": "code",
      "source": [
        "# Example data with missing values\n",
        "X = np.array([[1, 2, np.nan], [3, 4, 5], [6, np.nan, 8], [np.nan, 10, 11]])"
      ],
      "metadata": {
        "id": "ezo3az9RpjBA"
      },
      "execution_count": 3,
      "outputs": []
    },
    {
      "cell_type": "code",
      "source": [
        "# Initialize KNN imputer with k=2 (number of nearest neighbors)\n",
        "imputer = KNNImputer(n_neighbors=2)"
      ],
      "metadata": {
        "id": "SDxk4j5mokQ4"
      },
      "execution_count": 4,
      "outputs": []
    },
    {
      "cell_type": "code",
      "source": [
        "# Fit and transform the data to impute missing values\n",
        "X_imputed = imputer.fit_transform(X)"
      ],
      "metadata": {
        "id": "7J674bqEpkBn"
      },
      "execution_count": 5,
      "outputs": []
    },
    {
      "cell_type": "code",
      "source": [
        "print(\"Original data:\\n\", X)\n",
        "print(\"\\nImputed data:\\n\", X_imputed)"
      ],
      "metadata": {
        "colab": {
          "base_uri": "https://localhost:8080/"
        },
        "id": "BjgTbTL2pkLn",
        "outputId": "b036a05e-2c94-4224-d124-3fd7b4d975ea"
      },
      "execution_count": 6,
      "outputs": [
        {
          "output_type": "stream",
          "name": "stdout",
          "text": [
            "Original data:\n",
            " [[ 1.  2. nan]\n",
            " [ 3.  4.  5.]\n",
            " [ 6. nan  8.]\n",
            " [nan 10. 11.]]\n",
            "\n",
            "Imputed data:\n",
            " [[ 1.   2.   6.5]\n",
            " [ 3.   4.   5. ]\n",
            " [ 6.   7.   8. ]\n",
            " [ 4.5 10.  11. ]]\n"
          ]
        }
      ]
    }
  ]
}